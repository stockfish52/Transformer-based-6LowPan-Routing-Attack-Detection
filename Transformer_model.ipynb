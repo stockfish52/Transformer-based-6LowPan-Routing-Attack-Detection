{
 "cells": [
  {
   "cell_type": "code",
   "execution_count": 1,
   "id": "c7485297",
   "metadata": {},
   "outputs": [],
   "source": [
    "import pandas as pd"
   ]
  },
  {
   "cell_type": "code",
   "execution_count": 2,
   "id": "4775204f",
   "metadata": {},
   "outputs": [],
   "source": [
    "file_paths = [\n",
    "    'blackhole.csv',\n",
    "    'dodag.csv',\n",
    "    'flooding.csv',\n",
    "    'rank.csv'\n",
    "]"
   ]
  },
  {
   "cell_type": "code",
   "execution_count": null,
   "id": "a3b177e9",
   "metadata": {},
   "outputs": [],
   "source": [
    "# Load all CSV files into a list of DataFrames\n",
    "dfs = [pd.read_csv(file) for file in file_paths]"
   ]
  },
  {
   "cell_type": "code",
   "execution_count": 4,
   "id": "38c96056",
   "metadata": {},
   "outputs": [],
   "source": [
    "# Concatenate all DataFrames into a single DataFrame\n",
    "data = pd.concat(dfs,ignore_index=True)"
   ]
  },
  {
   "cell_type": "code",
   "execution_count": 5,
   "id": "6d02f6f2",
   "metadata": {},
   "outputs": [
    {
     "name": "stdout",
     "output_type": "stream",
     "text": [
      "Dataset Preview:\n",
      "    time  source  destination  length  info  transmission_rate_per_1000_ms  \\\n",
      "0  0.037      39         9999     0.0   1.0                       0.000000   \n",
      "1  0.037      39         9999     0.0   1.0                       0.000000   \n",
      "2  0.038      39         9999     0.0   1.0                       0.671176   \n",
      "3  0.045      39         9999     0.0   1.0                       0.000000   \n",
      "4  0.046      39         9999     0.0   1.0                       0.000000   \n",
      "\n",
      "   reception_rate_per_1000_ms  transmission_average_per_sec  \\\n",
      "0                    0.671176                      0.000000   \n",
      "1                    0.649873                      0.000000   \n",
      "2                    0.652361                      0.462516   \n",
      "3                    0.633786                      0.000000   \n",
      "4                    0.630378                      0.000000   \n",
      "\n",
      "   reception_average_per_sec  transmission_count_per_sec  \\\n",
      "0                   0.499879                    0.000000   \n",
      "1                   0.505234                    0.000000   \n",
      "2                   0.501327                    0.671768   \n",
      "3                   0.517346                    0.000000   \n",
      "4                   0.538789                    0.000000   \n",
      "\n",
      "   reception_count_per_sec  transmission_total_duration_per_sec  \\\n",
      "0                 0.671176                             0.539313   \n",
      "1                 0.649873                             0.264704   \n",
      "2                 0.652361                             0.546376   \n",
      "3                 0.634105                             0.585425   \n",
      "4                 0.630378                             0.443171   \n",
      "\n",
      "   reception_total_duration_per_sec  dao  dis       dio   category  label  \n",
      "0                          0.570032  0.0  0.0  0.000000     Normal      0  \n",
      "1                          0.530547  0.0  0.0  0.000000     Normal      0  \n",
      "2                          1.000000  0.0  0.0  0.690115  Blackhole      1  \n",
      "3                          0.553276  0.0  0.0  0.000000     Normal      0  \n",
      "4                          0.615377  0.0  0.0  0.000000     Normal      0  \n"
     ]
    }
   ],
   "source": [
    "# Display the first few rows\n",
    "print(\"Dataset Preview:\")\n",
    "print(data.head())"
   ]
  },
  {
   "cell_type": "code",
   "execution_count": 6,
   "id": "7f73d418",
   "metadata": {},
   "outputs": [
    {
     "name": "stdout",
     "output_type": "stream",
     "text": [
      "\n",
      "Dataset Info:\n",
      "<class 'pandas.core.frame.DataFrame'>\n",
      "RangeIndex: 1639975 entries, 0 to 1639974\n",
      "Data columns (total 18 columns):\n",
      " #   Column                               Non-Null Count    Dtype  \n",
      "---  ------                               --------------    -----  \n",
      " 0   time                                 1639975 non-null  float64\n",
      " 1   source                               1639975 non-null  int64  \n",
      " 2   destination                          1639975 non-null  int64  \n",
      " 3   length                               1639975 non-null  float64\n",
      " 4   info                                 1639975 non-null  float64\n",
      " 5   transmission_rate_per_1000_ms        1639975 non-null  float64\n",
      " 6   reception_rate_per_1000_ms           1639975 non-null  float64\n",
      " 7   transmission_average_per_sec         1639975 non-null  float64\n",
      " 8   reception_average_per_sec            1639975 non-null  float64\n",
      " 9   transmission_count_per_sec           1639975 non-null  float64\n",
      " 10  reception_count_per_sec              1639975 non-null  float64\n",
      " 11  transmission_total_duration_per_sec  1639975 non-null  float64\n",
      " 12  reception_total_duration_per_sec     1639975 non-null  float64\n",
      " 13  dao                                  1639975 non-null  float64\n",
      " 14  dis                                  1639975 non-null  float64\n",
      " 15  dio                                  1639975 non-null  float64\n",
      " 16  category                             1639975 non-null  object \n",
      " 17  label                                1639975 non-null  int64  \n",
      "dtypes: float64(14), int64(3), object(1)\n",
      "memory usage: 225.2+ MB\n",
      "None\n"
     ]
    }
   ],
   "source": [
    "# Basic dataset information\n",
    "print(\"\\nDataset Info:\")\n",
    "print(data.info())"
   ]
  },
  {
   "cell_type": "code",
   "execution_count": 7,
   "id": "f43f4b9a",
   "metadata": {},
   "outputs": [
    {
     "name": "stdout",
     "output_type": "stream",
     "text": [
      "\n",
      "Missing Values (Before Handling):\n",
      "time                                   0\n",
      "source                                 0\n",
      "destination                            0\n",
      "length                                 0\n",
      "info                                   0\n",
      "transmission_rate_per_1000_ms          0\n",
      "reception_rate_per_1000_ms             0\n",
      "transmission_average_per_sec           0\n",
      "reception_average_per_sec              0\n",
      "transmission_count_per_sec             0\n",
      "reception_count_per_sec                0\n",
      "transmission_total_duration_per_sec    0\n",
      "reception_total_duration_per_sec       0\n",
      "dao                                    0\n",
      "dis                                    0\n",
      "dio                                    0\n",
      "category                               0\n",
      "label                                  0\n",
      "dtype: int64\n"
     ]
    }
   ],
   "source": [
    "# Check for missing values\n",
    "print(\"\\nMissing Values (Before Handling):\")\n",
    "print(data.isnull().sum())"
   ]
  },
  {
   "cell_type": "code",
   "execution_count": 10,
   "id": "6151d06f",
   "metadata": {},
   "outputs": [
    {
     "data": {
      "text/plain": [
       "label                                       2\n",
       "category                                    5\n",
       "info                                       10\n",
       "length                                     13\n",
       "destination                               101\n",
       "source                                    101\n",
       "dis                                       206\n",
       "dao                                       233\n",
       "dio                                       383\n",
       "transmission_count_per_sec                467\n",
       "transmission_rate_per_1000_ms             470\n",
       "reception_total_duration_per_sec          575\n",
       "reception_rate_per_1000_ms               1248\n",
       "reception_count_per_sec                  1253\n",
       "transmission_total_duration_per_sec      1634\n",
       "reception_average_per_sec                9369\n",
       "transmission_average_per_sec            21764\n",
       "time                                   725703\n",
       "dtype: int64"
      ]
     },
     "execution_count": 10,
     "metadata": {},
     "output_type": "execute_result"
    }
   ],
   "source": [
    "data.nunique().sort_values()"
   ]
  },
  {
   "cell_type": "code",
   "execution_count": 39,
   "id": "2a532703",
   "metadata": {},
   "outputs": [
    {
     "name": "stdout",
     "output_type": "stream",
     "text": [
      "[0.         0.41111834 0.52029776 0.55440486 0.57018941 0.57241282\n",
      " 0.57289431 0.58018146 0.58259798 1.        ]\n"
     ]
    }
   ],
   "source": [
    "print(data['info'].sort_values().unique())"
   ]
  },
  {
   "cell_type": "code",
   "execution_count": 18,
   "id": "15b2240d",
   "metadata": {},
   "outputs": [
    {
     "name": "stderr",
     "output_type": "stream",
     "text": [
      "Matplotlib is building the font cache; this may take a moment.\n"
     ]
    }
   ],
   "source": [
    "import tensorflow as tf\n",
    "from tensorflow.keras import layers"
   ]
  },
  {
   "cell_type": "code",
   "execution_count": 35,
   "id": "490a1cb4",
   "metadata": {},
   "outputs": [],
   "source": [
    "source_lookup = tf.keras.layers.IntegerLookup(output_mode='int')\n",
    "destination_lookup = tf.keras.layers.IntegerLookup(output_mode='int')\n",
    "info_lookup = tf.keras.layers.StringLookup(output_mode='int')\n",
    "length_lookup = tf.keras.layers.StringLookup(output_mode='int')\n",
    "source_lookup.adapt(data['source'])\n",
    "destination_lookup.adapt(data['destination'])\n",
    "info_lookup.adapt(data['info'].astype(str))\n",
    "length_lookup.adapt(data['length'].astype(str))\n"
   ]
  },
  {
   "cell_type": "code",
   "execution_count": 70,
   "id": "48561a8f",
   "metadata": {},
   "outputs": [
    {
     "name": "stdout",
     "output_type": "stream",
     "text": [
      "(None, 1, 32)\n"
     ]
    }
   ],
   "source": [
    "source_embedding_layer = layers.Embedding(input_dim=source_lookup.vocabulary_size(), output_dim= 32)\n",
    "source_input = tf.keras.Input(shape=(1,), dtype=tf.int32)\n",
    "source_index = source_lookup(source_input)\n",
    "source_embedding = source_embedding_layer(source_index)\n",
    "print(source_embedding.shape)\n",
    "\n",
    "destination_embedding_layer = layers.Embedding(input_dim=destination_lookup.vocabulary_size(), output_dim= 32)\n",
    "info_embedding_layer = layers.Embedding(input_dim=info_lookup.vocabulary_size(), output_dim= 32)\n",
    "length_embedding_layer = layers.Embedding(input_dim=length_lookup.vocabulary_size(), output_dim= 32)"
   ]
  },
  {
   "cell_type": "code",
   "execution_count": 49,
   "id": "66c25cae",
   "metadata": {},
   "outputs": [
    {
     "name": "stdout",
     "output_type": "stream",
     "text": [
      "<class 'tensorflow.python.framework.ops.EagerTensor'>\n",
      "tf.Tensor(\n",
      "[-0.04899985  0.04083799  0.01216459  0.02252749 -0.0076803  -0.01957971\n",
      "  0.03763356 -0.01048531 -0.00600383  0.02336247  0.01699139  0.03945199\n",
      "  0.01549754  0.0269189   0.01121736  0.02182175  0.01574903 -0.03418497\n",
      "  0.04951834  0.00981645 -0.02337005 -0.02803885  0.04740372  0.04845286\n",
      " -0.00362219  0.00021451  0.0259108   0.00962509  0.00182294  0.03295778\n",
      "  0.03648982 -0.01601095], shape=(32,), dtype=float32)\n"
     ]
    }
   ],
   "source": [
    "# Convert a value to index in vocabulary\n",
    "value = tf.constant(\"0.58018146\")\n",
    "print(type(value))\n",
    "index = info_lookup(value)\n",
    "\n",
    "# Get corresponding Embedding vector  \n",
    "embedding_vector = info_embedding(index)\n",
    "print(embedding_vector)"
   ]
  },
  {
   "cell_type": "code",
   "execution_count": 64,
   "id": "4bbf424c",
   "metadata": {},
   "outputs": [],
   "source": [
    "# Numerical -> Vector \n",
    "dis_input = tf.keras.Input(shape=(1,), dtype=tf.float32, name='dis')\n",
    "dis_vector = layers.Dense(32)(dis_input)\n",
    "dis_vector = layers.Reshape((1, 32))(dis_vector)\n",
    "\n",
    "dao_input = tf.keras.Input(shape=(1,), dtype=tf.float32, name='dao')\n",
    "dao_vector = layers.Dense(32)(dao_input)\n",
    "dao_vector = layers.Reshape((1, 32))(dao_vector)\n",
    "\n",
    "dio_input = tf.keras.Input(shape=(1,), dtype=tf.float32, name='dio')\n",
    "dio_vector = layers.Dense(32)(dio_input)\n",
    "dio_vector = layers.Reshape((1, 32))(dio_vector)\n",
    "\n",
    "transmission_count_per_sec_input = tf.keras.Input(shape=(1,), dtype=tf.float32, name='transmission_count_per_sec')\n",
    "transmission_count_per_sec_vector = layers.Dense(32)(transmission_count_per_sec_input)\n",
    "transmission_count_per_sec_vector = layers.Reshape((1, 32))(transmission_count_per_sec_vector)\n",
    "\n",
    "transmission_rate_per_1000_ms_input = tf.keras.Input(shape=(1,), dtype=tf.float32, name='transmission_rate_per_1000_ms')\n",
    "transmission_rate_per_1000_ms_vector = layers.Dense(32)(transmission_rate_per_1000_ms_input)\n",
    "transmission_rate_per_1000_ms_vector = layers.Reshape((1, 32))(transmission_rate_per_1000_ms_vector)\n",
    "\n",
    "time_input = tf.keras.Input(shape=(1,), dtype=tf.float32, name='time')\n",
    "time_vector = layers.Dense(32)(time_input)\n",
    "time_vector = layers.Reshape((1, 32))(time_vector)\n",
    "\n",
    "reception_total_duration_per_sec_input = tf.keras.Input(shape=(1,), dtype=tf.float32, name='reception_total_duration_per_sec')\n",
    "reception_total_duration_per_sec_vector = layers.Dense(32)(reception_total_duration_per_sec_input)\n",
    "reception_total_duration_per_sec_vector = layers.Reshape((1, 32))(reception_total_duration_per_sec_vector)\n",
    "\n",
    "reception_rate_per_1000_ms_input = tf.keras.Input(shape=(1,), dtype=tf.float32, name='reception_rate_per_1000_ms')\n",
    "reception_rate_per_1000_ms_vector = layers.Dense(32)(reception_rate_per_1000_ms_input)\n",
    "reception_rate_per_1000_ms_vector = layers.Reshape((1, 32))(reception_rate_per_1000_ms_vector)\n",
    "\n",
    "reception_count_per_sec_input = tf.keras.Input(shape=(1,), dtype=tf.float32, name='reception_count_per_sec')\n",
    "reception_count_per_sec_vector = layers.Dense(32)(reception_count_per_sec_input)\n",
    "reception_count_per_sec_vector = layers.Reshape((1, 32))(reception_count_per_sec_vector)\n",
    "\n",
    "transmission_total_duration_per_sec_input = tf.keras.Input(shape=(1,), dtype=tf.float32, name='transmission_total_duration_per_sec')\n",
    "transmission_total_duration_per_sec_vector = layers.Dense(32)(transmission_total_duration_per_sec_input)\n",
    "transmission_total_duration_per_sec_vector = layers.Reshape((1, 32))(transmission_total_duration_per_sec_vector)\n",
    "\n",
    "reception_average_per_sec_input = tf.keras.Input(shape=(1,), dtype=tf.float32, name='reception_average_per_sec')\n",
    "reception_average_per_sec_vector = layers.Dense(32)(reception_average_per_sec_input)\n",
    "reception_average_per_sec_vector = layers.Reshape((1, 32))(reception_average_per_sec_vector)\n",
    "\n",
    "transmission_average_per_sec_input = tf.keras.Input(shape=(1,), dtype=tf.float32, name='transmission_average_per_sec')\n",
    "transmission_average_per_sec_vector = layers.Dense(32)(transmission_average_per_sec_input)\n",
    "transmission_average_per_sec_vector = layers.Reshape((1, 32))(transmission_average_per_sec_vector)\n"
   ]
  },
  {
   "cell_type": "code",
   "execution_count": 79,
   "id": "11eaac6c",
   "metadata": {},
   "outputs": [
    {
     "name": "stdout",
     "output_type": "stream",
     "text": [
      "<class 'keras.src.backend.common.keras_tensor.KerasTensor'>\n"
     ]
    }
   ],
   "source": [
    "concatenated = layers.Concatenate(axis=1)([source_embedding, dis_vector, dao_vector])\n",
    "print(type(concatenated))"
   ]
  },
  {
   "cell_type": "code",
   "execution_count": 81,
   "id": "4a3c0975",
   "metadata": {},
   "outputs": [],
   "source": [
    "from tensorflow.keras.layers import LayerNormalization\n",
    "\n",
    "norm_concatenated = layers.LayerNormalization(axis=-1)(concatenated)  # (batch, num_features, embedding_dim)"
   ]
  },
  {
   "cell_type": "code",
   "execution_count": 82,
   "id": "e44ad4f2",
   "metadata": {},
   "outputs": [],
   "source": [
    "attention_output = layers.MultiHeadAttention(\n",
    "    num_heads=4,         # Số lượng \"head\" attention\n",
    "    key_dim=32           # Độ dài vector key/query — thường là embedding_dim / num_heads\n",
    ")(query=norm_concatenated, key=norm_concatenated, value=norm_concatenated)"
   ]
  },
  {
   "cell_type": "code",
   "execution_count": 83,
   "id": "53355ccb",
   "metadata": {},
   "outputs": [],
   "source": [
    "input_layernorm = layers.Add()([norm_concatenated, attention_output])\n",
    "output_layernorm = layers.LayerNormalization(epsilon=1e-6)(input_layernorm)"
   ]
  },
  {
   "cell_type": "code",
   "execution_count": 84,
   "id": "93368f8e",
   "metadata": {},
   "outputs": [],
   "source": [
    "ffn = layers.Dense(128, activation='relu')(output_layernorm)\n",
    "ffn = layers.Dense(32)(ffn)\n",
    "\n",
    "# Residual + LayerNorm\n",
    "x = layers.Add()([output_layernorm, ffn])\n",
    "x = layers.LayerNormalization(epsilon=1e-6)(x)"
   ]
  },
  {
   "cell_type": "code",
   "execution_count": 85,
   "id": "848844bb",
   "metadata": {},
   "outputs": [],
   "source": [
    "x = layers.GlobalAveragePooling1D()(x)  # Shape: (batch, 32)\n",
    "output = layers.Dense(1, activation='sigmoid')(x)"
   ]
  },
  {
   "cell_type": "code",
   "execution_count": null,
   "id": "2ec387a8",
   "metadata": {},
   "outputs": [],
   "source": [
    "model = tf.keras.Model(inputs=[source_input, dis_input, ...], outputs=output)"
   ]
  }
 ],
 "metadata": {
  "kernelspec": {
   "display_name": "thesis_env",
   "language": "python",
   "name": "python3"
  },
  "language_info": {
   "codemirror_mode": {
    "name": "ipython",
    "version": 3
   },
   "file_extension": ".py",
   "mimetype": "text/x-python",
   "name": "python",
   "nbconvert_exporter": "python",
   "pygments_lexer": "ipython3",
   "version": "3.9.23"
  }
 },
 "nbformat": 4,
 "nbformat_minor": 5
}
